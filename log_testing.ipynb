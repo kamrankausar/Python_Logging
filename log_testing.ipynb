{
 "cells": [
  {
   "cell_type": "code",
   "execution_count": 1,
   "metadata": {},
   "outputs": [],
   "source": [
    "#import the module\n",
    "import logging"
   ]
  },
  {
   "cell_type": "code",
   "execution_count": 2,
   "metadata": {},
   "outputs": [],
   "source": [
    "LOG_FILENAME = 'simple.log'"
   ]
  },
  {
   "cell_type": "code",
   "execution_count": 3,
   "metadata": {},
   "outputs": [],
   "source": [
    "#Initilize the file name\n",
    "logging.basicConfig(filename=LOG_FILENAME, level = logging.DEBUG, \n",
    "                   format = \"%(asctime)s:%(levelname)s:%(lineno)d:%(message)s\")\n",
    "#More on  https://docs.python.org/3/library/logging.html#logrecord-attributes"
   ]
  },
  {
   "cell_type": "code",
   "execution_count": 14,
   "metadata": {},
   "outputs": [],
   "source": [
    "#Change the default level of logging\n",
    "#logging.basicConfig(level = logging.INFO)"
   ]
  },
  {
   "cell_type": "code",
   "execution_count": 4,
   "metadata": {},
   "outputs": [],
   "source": [
    "#Some basic suite\n",
    "def add(x, y):\n",
    "    return x +y"
   ]
  },
  {
   "cell_type": "code",
   "execution_count": 5,
   "metadata": {},
   "outputs": [],
   "source": [
    "def substract(x, y):\n",
    "    return x - y"
   ]
  },
  {
   "cell_type": "code",
   "execution_count": 6,
   "metadata": {},
   "outputs": [],
   "source": [
    "def multiply(x, y):\n",
    "    return x * y"
   ]
  },
  {
   "cell_type": "code",
   "execution_count": 7,
   "metadata": {},
   "outputs": [],
   "source": [
    "def divide(x, y):\n",
    "    return x / y"
   ]
  },
  {
   "cell_type": "code",
   "execution_count": 8,
   "metadata": {},
   "outputs": [],
   "source": [
    "#Initilize the number\n",
    "num_1 = 30\n",
    "num_2 = 10"
   ]
  },
  {
   "cell_type": "code",
   "execution_count": 9,
   "metadata": {},
   "outputs": [
    {
     "name": "stdout",
     "output_type": "stream",
     "text": [
      "ADD: 20 + 10 = 30\n",
      "SUB: 20 - 10 = 10\n",
      "MUL: 20 * 10 = 200\n",
      "DIV: 20 / 10 = 2.0\n"
     ]
    }
   ],
   "source": [
    "#Calling each suite one by on\n",
    "add_result = add(num_1, num_2)\n",
    "print(\"ADD: {} + {} = {}\".format(num_1, num_2, add_result))\n",
    "\n",
    "sub_result = substract(num_1, num_2)\n",
    "print(\"SUB: {} - {} = {}\".format(num_1, num_2, sub_result))\n",
    "\n",
    "mul_result = multiply(num_1, num_2)\n",
    "print(\"MUL: {} * {} = {}\".format(num_1, num_2, mul_result))\n",
    "\n",
    "div_result = divide(num_1, num_2)\n",
    "print(\"DIV: {} / {} = {}\".format(num_1, num_2, div_result))"
   ]
  },
  {
   "cell_type": "code",
   "execution_count": 9,
   "metadata": {},
   "outputs": [
    {
     "name": "stderr",
     "output_type": "stream",
     "text": [
      "INFO:root:ADD: 20 + 10 = 30\n",
      "INFO:root:SUB: 20 - 10 = 10\n",
      "INFO:root:MUL: 20 * 10 = 200\n",
      "INFO:root:DIV: 20 / 10 = 2.0\n"
     ]
    }
   ],
   "source": [
    "#Now using Logging which display on the console if file is not initilized\n",
    "#Calling each suite one by on\n",
    "add_result = add(num_1, num_2)\n",
    "logging.info(\"ADD: {} + {} = {}\".format(num_1, num_2, add_result))\n",
    "\n",
    "sub_result = substract(num_1, num_2)\n",
    "logging.info(\"SUB: {} - {} = {}\".format(num_1, num_2, sub_result))\n",
    "\n",
    "mul_result = multiply(num_1, num_2)\n",
    "logging.info(\"MUL: {} * {} = {}\".format(num_1, num_2, mul_result))\n",
    "\n",
    "div_result = divide(num_1, num_2)\n",
    "logging.info(\"DIV: {} / {} = {}\".format(num_1, num_2, div_result))"
   ]
  },
  {
   "cell_type": "code",
   "execution_count": 9,
   "metadata": {},
   "outputs": [],
   "source": [
    "#Now if we initilize the log file then all the log will sace in the logfile \n",
    "#Now using Logging which display on the console if file is not initilized\n",
    "#Calling each suite one by on\n",
    "add_result = add(num_1, num_2)\n",
    "logging.debug(\"ADD: {} + {} = {}\".format(num_1, num_2, add_result))\n",
    "\n",
    "sub_result = substract(num_1, num_2)\n",
    "logging.info(\"SUB: {} - {} = {}\".format(num_1, num_2, sub_result))\n",
    "\n",
    "mul_result = multiply(num_1, num_2)\n",
    "logging.warning(\"MUL: {} * {} = {}\".format(num_1, num_2, mul_result))\n",
    "\n",
    "div_result = divide(num_1, num_2)\n",
    "logging.critical(\"DIV: {} / {} = {}\".format(num_1, num_2, div_result))"
   ]
  },
  {
   "cell_type": "code",
   "execution_count": null,
   "metadata": {},
   "outputs": [],
   "source": []
  }
 ],
 "metadata": {
  "kernelspec": {
   "display_name": "Python 3",
   "language": "python",
   "name": "python3"
  },
  "language_info": {
   "codemirror_mode": {
    "name": "ipython",
    "version": 3
   },
   "file_extension": ".py",
   "mimetype": "text/x-python",
   "name": "python",
   "nbconvert_exporter": "python",
   "pygments_lexer": "ipython3",
   "version": "3.6.5"
  }
 },
 "nbformat": 4,
 "nbformat_minor": 2
}
